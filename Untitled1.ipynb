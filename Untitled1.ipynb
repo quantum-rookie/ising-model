{
 "cells": [
  {
   "cell_type": "code",
   "execution_count": 50,
   "metadata": {},
   "outputs": [
    {
     "ename": "TypeError",
     "evalue": "'float' object is not callable",
     "output_type": "error",
     "traceback": [
      "\u001b[1;31m---------------------------------------------------------------------------\u001b[0m",
      "\u001b[1;31mTypeError\u001b[0m                                 Traceback (most recent call last)",
      "\u001b[1;32m<ipython-input-50-040876132be4>\u001b[0m in \u001b[0;36m<module>\u001b[1;34m\u001b[0m\n\u001b[0;32m      5\u001b[0m \u001b[1;32mfrom\u001b[0m \u001b[0mqiskit\u001b[0m\u001b[1;33m.\u001b[0m\u001b[0mcircuit\u001b[0m \u001b[1;32mimport\u001b[0m \u001b[0mQuantumCircuit\u001b[0m\u001b[1;33m,\u001b[0m \u001b[0mParameterVector\u001b[0m\u001b[1;33m\u001b[0m\u001b[1;33m\u001b[0m\u001b[0m\n\u001b[0;32m      6\u001b[0m \u001b[1;33m\u001b[0m\u001b[0m\n\u001b[1;32m----> 7\u001b[1;33m \u001b[0mhamiltonian\u001b[0m \u001b[1;33m=\u001b[0m \u001b[1;36m0.25\u001b[0m \u001b[1;33m*\u001b[0m \u001b[1;33m(\u001b[0m\u001b[0mZ\u001b[0m \u001b[1;33m^\u001b[0m \u001b[0mZ\u001b[0m \u001b[1;33m^\u001b[0m \u001b[0mI\u001b[0m \u001b[1;33m^\u001b[0m \u001b[0mI\u001b[0m \u001b[1;33m^\u001b[0m \u001b[0mI\u001b[0m \u001b[1;33m^\u001b[0m \u001b[0mI\u001b[0m\u001b[1;33m)\u001b[0m \u001b[1;33m+\u001b[0m \u001b[1;36m0.25\u001b[0m\u001b[1;33m*\u001b[0m\u001b[1;33m(\u001b[0m\u001b[0mZ\u001b[0m \u001b[1;33m^\u001b[0m \u001b[0mI\u001b[0m \u001b[1;33m^\u001b[0m \u001b[0mZ\u001b[0m \u001b[1;33m^\u001b[0m \u001b[0mI\u001b[0m \u001b[1;33m^\u001b[0m \u001b[0mI\u001b[0m \u001b[1;33m^\u001b[0m \u001b[0mI\u001b[0m\u001b[1;33m)\u001b[0m \u001b[1;33m+\u001b[0m \u001b[1;36m0.25\u001b[0m\u001b[1;33m(\u001b[0m\u001b[0mI\u001b[0m \u001b[1;33m^\u001b[0m \u001b[0mI\u001b[0m \u001b[1;33m^\u001b[0m \u001b[0mZ\u001b[0m \u001b[1;33m^\u001b[0m \u001b[0mI\u001b[0m \u001b[1;33m^\u001b[0m \u001b[0mZ\u001b[0m \u001b[1;33m^\u001b[0m \u001b[0mI\u001b[0m\u001b[1;33m)\u001b[0m \u001b[1;33m+\u001b[0m \u001b[1;36m0.25\u001b[0m\u001b[1;33m(\u001b[0m\u001b[0mI\u001b[0m \u001b[1;33m^\u001b[0m \u001b[0mI\u001b[0m \u001b[1;33m^\u001b[0m \u001b[0mI\u001b[0m \u001b[1;33m^\u001b[0m \u001b[0mI\u001b[0m \u001b[1;33m^\u001b[0m\u001b[0mZ\u001b[0m \u001b[1;33m^\u001b[0m \u001b[0mZ\u001b[0m\u001b[1;33m)\u001b[0m \u001b[1;33m+\u001b[0m \u001b[1;36m0.25\u001b[0m\u001b[1;33m(\u001b[0m\u001b[0mI\u001b[0m \u001b[1;33m^\u001b[0m \u001b[0mI\u001b[0m \u001b[1;33m^\u001b[0m \u001b[0mZ\u001b[0m \u001b[1;33m^\u001b[0m \u001b[0mZ\u001b[0m \u001b[1;33m^\u001b[0m \u001b[0mI\u001b[0m \u001b[1;33m^\u001b[0m \u001b[0mI\u001b[0m\u001b[1;33m)\u001b[0m \u001b[1;33m+\u001b[0m \u001b[1;36m0.25\u001b[0m\u001b[1;33m(\u001b[0m\u001b[0mI\u001b[0m \u001b[1;33m^\u001b[0m \u001b[0mZ\u001b[0m \u001b[1;33m^\u001b[0m \u001b[0mI\u001b[0m \u001b[1;33m^\u001b[0m \u001b[0mZ\u001b[0m \u001b[1;33m^\u001b[0m \u001b[0mI\u001b[0m \u001b[1;33m^\u001b[0m \u001b[0mI\u001b[0m \u001b[1;33m^\u001b[0m\u001b[0mI\u001b[0m\u001b[1;33m)\u001b[0m \u001b[1;33m+\u001b[0m \u001b[1;36m0.25\u001b[0m\u001b[1;33m*\u001b[0m\u001b[1;33m(\u001b[0m\u001b[0mI\u001b[0m \u001b[1;33m^\u001b[0m \u001b[0mI\u001b[0m\u001b[1;33m^\u001b[0m \u001b[0mZ\u001b[0m\u001b[1;33m^\u001b[0m \u001b[0mI\u001b[0m \u001b[1;33m^\u001b[0m \u001b[0mZ\u001b[0m \u001b[1;33m^\u001b[0m \u001b[0mI\u001b[0m\u001b[1;33m)\u001b[0m \u001b[1;33m+\u001b[0m \u001b[1;33m(\u001b[0m\u001b[0mX\u001b[0m\u001b[1;33m^\u001b[0m \u001b[0mI\u001b[0m \u001b[1;33m^\u001b[0m \u001b[0mI\u001b[0m \u001b[1;33m^\u001b[0m \u001b[0mI\u001b[0m \u001b[1;33m^\u001b[0m \u001b[0mI\u001b[0m\u001b[1;33m^\u001b[0m \u001b[0mI\u001b[0m\u001b[1;33m)\u001b[0m \u001b[1;33m+\u001b[0m \u001b[1;33m(\u001b[0m\u001b[0mI\u001b[0m \u001b[1;33m^\u001b[0m \u001b[0mX\u001b[0m\u001b[1;33m^\u001b[0m \u001b[0mI\u001b[0m \u001b[1;33m^\u001b[0m \u001b[0mI\u001b[0m\u001b[1;33m^\u001b[0m \u001b[0mI\u001b[0m \u001b[1;33m^\u001b[0m \u001b[0mI\u001b[0m\u001b[1;33m)\u001b[0m \u001b[1;33m+\u001b[0m \u001b[1;33m(\u001b[0m\u001b[0mI\u001b[0m \u001b[1;33m^\u001b[0m \u001b[0mI\u001b[0m \u001b[1;33m^\u001b[0m \u001b[0mX\u001b[0m \u001b[1;33m^\u001b[0m \u001b[0mI\u001b[0m \u001b[1;33m^\u001b[0m \u001b[0mI\u001b[0m \u001b[1;33m^\u001b[0m \u001b[0mI\u001b[0m\u001b[1;33m)\u001b[0m \u001b[1;33m+\u001b[0m \u001b[1;33m(\u001b[0m\u001b[0mI\u001b[0m \u001b[1;33m^\u001b[0m \u001b[0mI\u001b[0m \u001b[1;33m^\u001b[0m \u001b[0mI\u001b[0m \u001b[1;33m^\u001b[0m \u001b[0mX\u001b[0m \u001b[1;33m^\u001b[0m \u001b[0mI\u001b[0m \u001b[1;33m^\u001b[0m \u001b[0mI\u001b[0m\u001b[1;33m)\u001b[0m \u001b[1;33m+\u001b[0m \u001b[1;33m(\u001b[0m\u001b[0mI\u001b[0m \u001b[1;33m^\u001b[0m \u001b[0mI\u001b[0m \u001b[1;33m^\u001b[0m \u001b[0mI\u001b[0m \u001b[1;33m^\u001b[0m \u001b[0mI\u001b[0m \u001b[1;33m^\u001b[0m \u001b[0mX\u001b[0m \u001b[1;33m^\u001b[0m \u001b[0mI\u001b[0m\u001b[1;33m)\u001b[0m \u001b[1;33m+\u001b[0m \u001b[1;33m(\u001b[0m\u001b[0mI\u001b[0m \u001b[1;33m^\u001b[0m \u001b[0mI\u001b[0m \u001b[1;33m^\u001b[0m \u001b[0mI\u001b[0m \u001b[1;33m^\u001b[0m \u001b[0mI\u001b[0m\u001b[1;33m^\u001b[0m \u001b[0mI\u001b[0m \u001b[1;33m^\u001b[0m \u001b[0mX\u001b[0m\u001b[1;33m)\u001b[0m\u001b[1;33m\u001b[0m\u001b[1;33m\u001b[0m\u001b[0m\n\u001b[0m\u001b[0;32m      8\u001b[0m \u001b[1;33m\u001b[0m\u001b[0m\n\u001b[0;32m      9\u001b[0m \u001b[0moptimizer\u001b[0m \u001b[1;33m=\u001b[0m \u001b[0mCOBYLA\u001b[0m\u001b[1;33m(\u001b[0m\u001b[0mmaxiter\u001b[0m\u001b[1;33m=\u001b[0m\u001b[1;36m100\u001b[0m\u001b[1;33m)\u001b[0m\u001b[1;33m\u001b[0m\u001b[1;33m\u001b[0m\u001b[0m\n",
      "\u001b[1;31mTypeError\u001b[0m: 'float' object is not callable"
     ]
    }
   ],
   "source": [
    "from qiskit import Aer\n",
    "from qiskit.aqua.operators import I, X, Z\n",
    "from qiskit.aqua.algorithms import VQE\n",
    "from qiskit.aqua.components.optimizers import COBYLA\n",
    "from qiskit.circuit import QuantumCircuit, ParameterVector\n",
    "\n",
    "hamiltonian = 0.25 * (Z ^ Z ^ I ^ I ^ I ^ I) + 0.25*(Z ^ I ^ Z ^ I ^ I ^ I) + 0.25(I ^ I ^ Z ^ I ^ Z ^ I) + 0.25(I ^ I ^ I ^ I ^Z ^ Z) + 0.25(I ^ I ^ Z ^ Z ^ I ^ I) + 0.25(I ^ Z ^ I ^ Z ^ I ^ I ^I) + 0.25*(I ^ I^ Z^ I ^ Z ^ I) + (X^ I ^ I ^ I ^ I^ I) + (I ^ X^ I ^ I^ I ^ I) + (I ^ I ^ X ^ I ^ I ^ I) + (I ^ I ^ I ^ X ^ I ^ I) + (I ^ I ^ I ^ I ^ X ^ I) + (I ^ I ^ I ^ I^ I ^ X)\n",
    "\n",
    "optimizer = COBYLA(maxiter=100)\n",
    "backend = Aer.get_backend('qasm_simulator')\n",
    "\n",
    "vqe = VQE(operator=hamiltonian, optimizer=optimizer,quantum_instance=backend)\n",
    "\n",
    "\n",
    "wavefunction = QuantumCircuit(6)\n",
    "params = ParameterVector('theta', length=7)\n",
    "wavefunction.rzz(params[0], 0, 2)\n",
    "wavefunction.rzz(params[0], 1, 3)\n",
    "wavefunction.rzz(params[1], 2, 4)\n",
    "wavefunction.rzz(params[1], 3, 5)\n",
    "wavefunction.rzz(params[2], 0, 1)\n",
    "wavefunction.rzz(params[3], 2, 3)\n",
    "wavefunction.rzz(params[4], 4, 5)\n",
    "wavefunction.rx(params[5], 0)\n",
    "wavedunction.rx(params[5], 1)\n",
    "wavefunction.rx(params[5], 4)\n",
    "wavefunction.rx(params[5], 5)\n",
    "wavefunction.rx(params[6], 2)\n",
    "wavefunction.rx(params[6], 3)\n",
    "\n",
    "vqe.var_form = wavefunction\n",
    "result = vqe.compute_minimum_eigenvalue()\n",
    "\n",
    "print('VQE:', result.eigenvalue.real)"
   ]
  },
  {
   "cell_type": "code",
   "execution_count": null,
   "metadata": {},
   "outputs": [],
   "source": []
  },
  {
   "cell_type": "code",
   "execution_count": null,
   "metadata": {},
   "outputs": [],
   "source": []
  },
  {
   "cell_type": "code",
   "execution_count": null,
   "metadata": {},
   "outputs": [],
   "source": []
  },
  {
   "cell_type": "code",
   "execution_count": null,
   "metadata": {},
   "outputs": [],
   "source": []
  }
 ],
 "metadata": {
  "kernelspec": {
   "display_name": "Python 3",
   "language": "python",
   "name": "python3"
  },
  "language_info": {
   "codemirror_mode": {
    "name": "ipython",
    "version": 3
   },
   "file_extension": ".py",
   "mimetype": "text/x-python",
   "name": "python",
   "nbconvert_exporter": "python",
   "pygments_lexer": "ipython3",
   "version": "3.7.9"
  }
 },
 "nbformat": 4,
 "nbformat_minor": 4
}
